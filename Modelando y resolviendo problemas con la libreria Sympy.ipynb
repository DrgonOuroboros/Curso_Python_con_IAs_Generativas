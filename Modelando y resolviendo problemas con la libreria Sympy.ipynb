{
 "cells": [
  {
   "cell_type": "markdown",
   "id": "11e669b4",
   "metadata": {},
   "source": [
    "# Symp"
   ]
  },
  {
   "cell_type": "markdown",
   "id": "f77e1f36",
   "metadata": {},
   "source": [
    "## Operaciones básicas"
   ]
  },
  {
   "cell_type": "code",
   "execution_count": null,
   "id": "1f3e7d75",
   "metadata": {},
   "outputs": [],
   "source": [
    "expr = cos(x) + 1\n",
    "expr.subs(x, y)"
   ]
  },
  {
   "cell_type": "code",
   "execution_count": null,
   "id": "ba2e6f3a",
   "metadata": {},
   "outputs": [],
   "source": [
    "# Chat GPT\n",
    "\n",
    "from sympy import symbols, cos\n",
    "\n",
    "# Definir el símbolo 'x'\n",
    "x = symbols('x')\n",
    "\n",
    "# Expresión dada\n",
    "expr = cos(x) + 1\n",
    "\n",
    "# Valor de 'y' para sustituir en la expresión\n",
    "y = 2.0  # Puedes cambiar el valor de 'y' según tus necesidades\n",
    "\n",
    "# Sustituir 'x' por 'y' en la expresión\n",
    "result = expr.subs(x, y)\n",
    "\n",
    "# Imprimir el resultado\n",
    "print(\"El resultado de la expresión con x =\", y, \"es:\", result)\n"
   ]
  },
  {
   "cell_type": "code",
   "execution_count": null,
   "id": "353a7f7e",
   "metadata": {},
   "outputs": [],
   "source": [
    "# Gemini\n",
    "\n",
    "import sympy\n",
    "\n",
    "# Definimos la variable simbólica\n",
    "x = sympy.Symbol('x')\n",
    "\n",
    "# Definimos la expresión\n",
    "expr = sympy.cos(x) + 1\n",
    "\n",
    "# Sustituimos x por y\n",
    "resultado = expr.subs(x, y)\n",
    "\n",
    "# Imprimimos el resultado\n",
    "print(resultado)\n"
   ]
  },
  {
   "cell_type": "code",
   "execution_count": null,
   "id": "adcb2824",
   "metadata": {},
   "outputs": [],
   "source": [
    "x = 3.14\n",
    "y = 2.71\n",
    "\n",
    "resultado = expr.subs(x, y)\n",
    "\n",
    "print(f\"El resultado de la sustitución es: {resultado}\")\n"
   ]
  },
  {
   "cell_type": "code",
   "execution_count": null,
   "id": "2938de14",
   "metadata": {},
   "outputs": [],
   "source": [
    "# Claude\n",
    "\n",
    "import sympy as sp\n",
    "\n",
    "x = sp.symbols('x')\n",
    "y = sp.symbols('y')\n",
    "\n",
    "expr = sp.cos(x) + 1\n",
    "print(expr.subs(x, y))"
   ]
  },
  {
   "cell_type": "code",
   "execution_count": null,
   "id": "0592ecf9",
   "metadata": {},
   "outputs": [],
   "source": [
    "# Copilot\n",
    "\n",
    "from sympy import symbols, cos\n",
    "\n",
    "# Definir las variables\n",
    "x, y = symbols('x y')\n",
    "\n",
    "# Definir la expresión\n",
    "expr = cos(x) + 1\n",
    "\n",
    "# Sustituir x por y en la expresión\n",
    "result = expr.subs(x, y)\n",
    "\n",
    "# Imprimir el resultado\n",
    "print(result)\n"
   ]
  },
  {
   "cell_type": "markdown",
   "id": "3af8983e",
   "metadata": {},
   "source": [
    "## lambdify"
   ]
  },
  {
   "cell_type": "code",
   "execution_count": null,
   "id": "8ae5316d",
   "metadata": {},
   "outputs": [],
   "source": [
    "import numpy \n",
    "a = numpy.arange(10) \n",
    "expr = sin(x)\n",
    "f = lambdify(x, expr, \"numpy\") \n",
    "f(a) "
   ]
  },
  {
   "cell_type": "code",
   "execution_count": null,
   "id": "ab706dc6",
   "metadata": {},
   "outputs": [],
   "source": [
    "# Chat GPT\n",
    "\n",
    "import numpy as np\n",
    "from sympy import symbols, lambdify, sin\n",
    "\n",
    "x = symbols('x')\n",
    "a = np.arange(10)\n",
    "expr = sin(x)\n",
    "f = lambdify(x, expr, \"numpy\")\n",
    "result = f(a)\n",
    "\n",
    "print(result)\n"
   ]
  },
  {
   "cell_type": "code",
   "execution_count": null,
   "id": "1d66949a",
   "metadata": {},
   "outputs": [],
   "source": [
    "# Gemini\n",
    "\n",
    "import numpy as np\n",
    "\n",
    "def f(x):\n",
    "  expr = np.sin(x)\n",
    "  return lambdify(x, expr, \"numpy\")(x)\n",
    "\n",
    "a = np.arange(10)\n",
    "resultado = f(a)\n",
    "\n",
    "print(resultado)\n"
   ]
  },
  {
   "cell_type": "code",
   "execution_count": null,
   "id": "2334e446",
   "metadata": {},
   "outputs": [],
   "source": [
    "# Gemini CORRECCION DEL ERROR\n",
    "\n",
    "import numpy as np\n",
    "from numba import jit\n",
    "\n",
    "@jit(nopython=True)\n",
    "def f(x):\n",
    "  return np.sin(x)\n",
    "\n",
    "a = np.arange(10)\n",
    "resultado = f(a)\n",
    "\n",
    "print(resultado)\n"
   ]
  },
  {
   "cell_type": "code",
   "execution_count": null,
   "id": "686af922",
   "metadata": {},
   "outputs": [],
   "source": [
    "# Claude\n",
    "\n",
    "import numpy\n",
    "import sympy as sp\n",
    "\n",
    "x = sp.Symbol('x')\n",
    "\n",
    "a = numpy.arange(10)  \n",
    "expr = sp.sin(x)\n",
    "f = lambdify(x, expr, \"numpy\")\n",
    "\n",
    "f(a)"
   ]
  },
  {
   "cell_type": "code",
   "execution_count": null,
   "id": "6be0c967",
   "metadata": {},
   "outputs": [],
   "source": [
    "# Copilot\n",
    "\n",
    "import numpy as np\n",
    "from sympy import symbols, lambdify, sin\n",
    "\n",
    "x = symbols('x')\n",
    "expr = sin(x)\n",
    "f = lambdify(x, expr, \"numpy\")\n",
    "a = np.arange(10)\n",
    "print(f(a))\n"
   ]
  },
  {
   "cell_type": "markdown",
   "id": "8133cd1c",
   "metadata": {},
   "source": [
    "## Impresion"
   ]
  },
  {
   "cell_type": "code",
   "execution_count": null,
   "id": "e549ad1b",
   "metadata": {},
   "outputs": [],
   "source": [
    "\n",
    "from __future__ import division\n",
    "from sympy import *\n",
    "x, y, z, t = symbols('x y z t')\n",
    "k, m, n = symbols('k m n', integer=True)\n",
    "f, g, h = symbols('f g h', cls=Function)\n",
    "init_printing() # doctest: +SKIP\n"
   ]
  },
  {
   "cell_type": "code",
   "execution_count": null,
   "id": "9620c22d",
   "metadata": {},
   "outputs": [],
   "source": [
    "# Chat GPT\n",
    "\n",
    "from __future__ import division\n",
    "from sympy import *\n",
    "x, y, z, t = symbols('x y z t')\n",
    "k, m, n = symbols('k m n', integer=True)\n",
    "f, g, h = symbols('f g h', cls=Function)\n",
    "init_printing()  # doctest: +SKIP\n",
    "\n",
    "# Ahora puedes continuar con tus operaciones y expresiones simbólicas usando SymPy.\n",
    "# Por ejemplo:\n",
    "expr = x**2 + y**2\n",
    "pprint(expr)\n"
   ]
  },
  {
   "cell_type": "code",
   "execution_count": null,
   "id": "93234034",
   "metadata": {},
   "outputs": [],
   "source": [
    "# Claude\n",
    "\n",
    "from __future__ import division\n",
    "from sympy import *\n",
    "\n",
    "x, y, z, t = symbols('x y z t')\n",
    "k, m, n = symbols('k m n', integer=True)\n",
    "f, g, h = symbols('f g h', cls=Function)\n",
    "\n",
    "init_printing() # doctest: +SKIP"
   ]
  },
  {
   "cell_type": "code",
   "execution_count": null,
   "id": "3a326032",
   "metadata": {
    "scrolled": true
   },
   "outputs": [],
   "source": [
    "pip install future\n"
   ]
  },
  {
   "cell_type": "code",
   "execution_count": null,
   "id": "f26bce60",
   "metadata": {},
   "outputs": [],
   "source": [
    "# Claude2\n",
    "\n",
    "from future import division\n",
    "from sympy import *\n",
    "\n",
    "x, y, z, t = symbols('x y z t')\n",
    "k, m, n = symbols('k m n', integer=True) \n",
    "f, g, h = symbols('f g h', cls=Function)\n",
    "\n",
    "init_printing() # doctest: +SKIP\n"
   ]
  },
  {
   "cell_type": "code",
   "execution_count": null,
   "id": "8a381043",
   "metadata": {},
   "outputs": [],
   "source": [
    "from __future__ import division\n",
    "from sympy import *\n",
    "\n",
    "x, y, z, t = symbols('x y z t')\n",
    "k, m, n = symbols('k m n', integer=True)  \n",
    "f, g, h = symbols('f g h', cls=Function)  \n",
    "\n",
    "init_printing() # doctest: +SKIP\n"
   ]
  },
  {
   "cell_type": "code",
   "execution_count": null,
   "id": "f435e7fb",
   "metadata": {},
   "outputs": [],
   "source": [
    "## Claude2\n",
    "\n",
    "from __future__ import division\n",
    "from sympy import *\n",
    "\n",
    "x, y, z, t = symbols('x y z t')  \n",
    "k, m, n = symbols('k m n', integer=True)\n",
    "f, g, h = symbols('f g h', cls=Function)\n",
    "\n",
    "init_printing()  \n",
    "\n",
    "print(\"Variables:\")\n",
    "print(x, y, z, t)\n",
    "\n",
    "expr = x**2 + 3*x*y + y**2 \n",
    "print(\"Ejemplo de expresión:\") \n",
    "print(expr)\n",
    "\n",
    "derivada = diff(expr,  x)  \n",
    "print(\"Derivada:\")\n",
    "print(derivada)\n",
    "\n",
    "integral = integrate(expr, x)\n",
    "print(\"Integral:\")  \n",
    "print(integral)\n"
   ]
  },
  {
   "cell_type": "code",
   "execution_count": null,
   "id": "749b05b0",
   "metadata": {},
   "outputs": [],
   "source": [
    "# Copilot\n",
    "\n",
    "# Definición de las funciones\n",
    "f = Function('f')(x)\n",
    "g = Function('g')(x)\n",
    "h = Function('h')(x)\n",
    "\n",
    "# Definición de las ecuaciones\n",
    "eq1 = Eq(f.diff(x, x) - 2*f, sin(x))\n",
    "eq2 = Eq(g.diff(x) + g, cos(x))\n",
    "eq3 = Eq(h.diff(x, 3) + h, exp(x))\n",
    "\n",
    "# Resolución de las ecuaciones\n",
    "sol_f = dsolve(eq1, f)\n",
    "sol_g = dsolve(eq2, g)\n",
    "sol_h = dsolve(eq3, h)\n",
    "\n",
    "# Impresión de las soluciones\n",
    "print(\"La solución de la primera ecuación es: \", sol_f)\n",
    "print(\"La solución de la segunda ecuación es: \", sol_g)\n",
    "print(\"La solución de la tercera ecuación es: \", sol_h)\n"
   ]
  },
  {
   "cell_type": "code",
   "execution_count": null,
   "id": "f112a6bf",
   "metadata": {},
   "outputs": [],
   "source": [
    "# Chat GPT\n",
    "\n",
    "pprint(Integral(sqrt(1/x), x), use_unicode=True)"
   ]
  },
  {
   "cell_type": "code",
   "execution_count": null,
   "id": "e5782c07",
   "metadata": {},
   "outputs": [],
   "source": [
    "# Chat GPT Version Integral definida con caracteres numericos\n",
    "\n",
    "from sympy import Integral, sqrt, pprint, symbols\n",
    "\n",
    "# Definir la variable simbólica\n",
    "x = symbols('x')\n",
    "\n",
    "# Crear la integral definida de la función sqrt(1/x) con respecto a x\n",
    "integral_expr = Integral(sqrt(1/x), (x, 1, 4))\n",
    "\n",
    "# Imprimir la integral definida con notación numérica\n",
    "pprint(integral_expr, use_unicode=False)\n"
   ]
  },
  {
   "cell_type": "markdown",
   "id": "12f2c81a",
   "metadata": {},
   "source": [
    "### Simplificacion"
   ]
  },
  {
   "cell_type": "code",
   "execution_count": null,
   "id": "84545b89",
   "metadata": {},
   "outputs": [],
   "source": [
    "from sympy import *\n",
    "x, y, z = symbols('x y z')\n",
    "init_printing(use_unicode=True)\n",
    "\n",
    "simplify(sin(x)**2 + cos(x)**2)\n",
    "simplify((x**3 + x**2 - x - 1)/(x**2 + 2*x + 1))\n",
    "simplify(gamma(x)/gamma(x - 2))\n",
    "simplify(x**2 + 2*x + 1)"
   ]
  },
  {
   "cell_type": "code",
   "execution_count": null,
   "id": "9fbbaffd",
   "metadata": {},
   "outputs": [],
   "source": [
    "# Chat GPT\n",
    "\n",
    "from sympy import *\n",
    "x, y, z = symbols('x y z')\n",
    "init_printing(use_unicode=True)\n",
    "\n",
    "expr1 = simplify(sin(x)**2 + cos(x)**2)\n",
    "expr2 = simplify((x**3 + x**2 - x - 1)/(x**2 + 2*x + 1))\n",
    "expr3 = simplify(gamma(x)/gamma(x - 2))\n",
    "expr4 = simplify(x**2 + 2*x + 1)\n",
    "\n",
    "print(\"Resultado 1:\")\n",
    "pprint(expr1)\n",
    "\n",
    "print(\"\\nResultado 2:\")\n",
    "pprint(expr2)\n",
    "\n",
    "print(\"\\nResultado 3:\")\n",
    "pprint(expr3)\n",
    "\n",
    "print(\"\\nResultado 4:\")\n",
    "pprint(expr4)\n"
   ]
  },
  {
   "cell_type": "code",
   "execution_count": null,
   "id": "46251154",
   "metadata": {},
   "outputs": [],
   "source": [
    "# Gemini\n",
    "\n",
    "from sympy import *\n",
    "\n",
    "x, y, z = symbols('x y z')\n",
    "init_printing(use_unicode=True)\n",
    "\n",
    "# Completar las expresiones:\n",
    "print(\"simplify(sin(x)**2 + cos(x)**2):\")\n",
    "print(simplify(sin(x)**2 + cos(x)**2))  # Salida: 1\n",
    "\n",
    "print(\"simplify((x**3 + x**2 - x - 1)/(x**2 + 2*x + 1)):\")\n",
    "print(simplify((x**3 + x**2 - x - 1)/(x**2 + 2*x + 1)))  # Salida: (x + 1)\n",
    "\n",
    "print(\"simplify(gamma(x)/gamma(x - 2)):\")\n",
    "print(simplify(gamma(x)/gamma(x - 2)))  # Salida: x * (x - 1)\n",
    "\n",
    "print(\"simplify(x**2 + 2*x + 1):\")\n",
    "print(simplify(x**2 + 2*x + 1))  # Salida: (x + 1)**2\n"
   ]
  },
  {
   "cell_type": "code",
   "execution_count": null,
   "id": "b970181d",
   "metadata": {},
   "outputs": [],
   "source": [
    "# Copilot\n",
    "\n",
    "from sympy import *\n",
    "x, y, z = symbols('x y z')\n",
    "init_printing(use_unicode=True)\n",
    "\n",
    "# Simplificar sin(x)^2 + cos(x)^2\n",
    "expr1 = simplify(sin(x)**2 + cos(x)**2)\n",
    "print(expr1)\n",
    "\n",
    "# Simplificar (x^3 + x^2 - x - 1) / (x^2 + 2*x + 1)\n",
    "expr2 = simplify((x**3 + x**2 - x - 1)/(x**2 + 2*x + 1))\n",
    "print(expr2)\n",
    "\n",
    "# Simplificar gamma(x) / gamma(x - 2)\n",
    "expr3 = simplify(gamma(x)/gamma(x - 2))\n",
    "print(expr3)\n",
    "\n",
    "# Simplificar x^2 + 2*x + 1\n",
    "expr4 = simplify(x**2 + 2*x + 1)\n",
    "print(expr4)\n"
   ]
  },
  {
   "cell_type": "code",
   "execution_count": null,
   "id": "9bbd79a5",
   "metadata": {},
   "outputs": [],
   "source": []
  },
  {
   "cell_type": "code",
   "execution_count": null,
   "id": "b28df3cc",
   "metadata": {},
   "outputs": [],
   "source": [
    "from sympy import *\n",
    "\n",
    "x, y, z = symbols('x y z')\n",
    "init_printing(use_unicode=True)\n",
    "\n",
    "# Completar las expresiones:\n",
    "print(\"simplify(sin(x)**2 + cos(x)**2):\")\n",
    "print(simplify(sin(x)**2 + cos(x)**2))  # Salida: 1\n",
    "\n",
    "print(\"simplify((x**3 + x**2 - x - 1)/(x**2 + 2*x + 1)):\")\n",
    "print(simplify((x**3 + x**2 - x - 1)/(x**2 + 2*x + 1)))  # Salida: (x + 1)\n",
    "\n",
    "print(\"simplify(gamma(x)/gamma(x - 2)):\")\n",
    "print(simplify(gamma(x)/gamma(x - 2)))  # Salida: x * (x - 1)\n",
    "\n",
    "print(\"simplify(x**2 + 2*x + 1):\")\n",
    "print(simplify(x**2 + 2*x + 1))  # Salida: (x + 1)**2\n"
   ]
  },
  {
   "cell_type": "code",
   "execution_count": null,
   "id": "639b0e28",
   "metadata": {},
   "outputs": [],
   "source": [
    "from sympy import *\n",
    "\n",
    "x, y, z = symbols('x y z')\n",
    "init_printing(use_unicode=True)\n",
    "\n",
    "# Complete expressions:\n",
    "print(\"simplify(sin(x)**2 + cos(x)**2):\", simplify(sin(x)**2 + cos(x)**2))  # Output: 1\n",
    "\n",
    "print(\"simplify((x**3 + x**2 - x - 1)/(x**2 + 2*x + 1)):\",\n",
    "      simplify((x**3 + x**2 - x - 1)/(x**2 + 2*x + 1)))  # Output: (x + 1)\n",
    "\n",
    "print(\"simplify(gamma(x)/gamma(x - 2)):\", simplify(gamma(x)/gamma(x - 2)))  # Output: x * (x - 1)\n",
    "\n",
    "print(\"simplify(x**2 + 2*x + 1):\", simplify(x**2 + 2*x + 1))  # Output: (x + 1)**2\n"
   ]
  },
  {
   "cell_type": "code",
   "execution_count": null,
   "id": "664fd266",
   "metadata": {},
   "outputs": [],
   "source": [
    "from sympy import *\n",
    "x, y, z = symbols('x y z')\n",
    "init_printing(use_unicode=True)\n",
    "\n",
    "# Simplificar sin(x)^2 + cos(x)^2\n",
    "expr1 = simplify(sin(x)**2 + cos(x)**2)\n",
    "print(expr1)\n",
    "\n",
    "# Simplificar (x^3 + x^2 - x - 1) / (x^2 + 2*x + 1)\n",
    "expr2 = simplify((x**3 + x**2 - x - 1)/(x**2 + 2*x + 1))\n",
    "print(expr2)\n",
    "\n",
    "# Simplificar gamma(x) / gamma(x - 2)\n",
    "expr3 = simplify(gamma(x)/gamma(x - 2))\n",
    "print(expr3)\n",
    "\n",
    "# Simplificar x^2 + 2*x + 1\n",
    "expr4 = simplify(x**2 + 2*x + 1)\n",
    "print(expr4)\n"
   ]
  },
  {
   "cell_type": "markdown",
   "id": "fc3aa8d3",
   "metadata": {},
   "source": [
    "### Integrales"
   ]
  },
  {
   "cell_type": "code",
   "execution_count": null,
   "id": "8f6f94cb",
   "metadata": {},
   "outputs": [],
   "source": [
    "from sympy import *\n",
    "\n",
    "# Define la variable simbólica\n",
    "x = Symbol('x')\n",
    "\n",
    "# Definir la función a integrar\n",
    "f = x**2 + x + 1\n",
    "\n",
    "# Realizar la integración indefinida\n",
    "resultado = integrate(f, x)\n",
    "\n",
    "# Imprimir el resultado\n",
    "print(resultado)"
   ]
  },
  {
   "cell_type": "code",
   "execution_count": null,
   "id": "0ef77acd",
   "metadata": {
    "scrolled": true
   },
   "outputs": [],
   "source": [
    "from sympy import *\n",
    "init_printing(use_unicode=False, wrap_line=False)\n",
    "x = Symbol('x')\n",
    "integrate(x**2 + x + 1, x)"
   ]
  },
  {
   "cell_type": "code",
   "execution_count": null,
   "id": "2c9fc035",
   "metadata": {},
   "outputs": [],
   "source": [
    "from sympy import *\n",
    "\n",
    "# Define la variable simbólica\n",
    "x = Symbol('x')\n",
    "\n",
    "# Definir la función a integrar\n",
    "f = x**5 + x + 5\n",
    "\n",
    "# Realizar la integración indefinida\n",
    "resultado = integrate(f, x)\n",
    "\n",
    "# Imprimir el resultado\n",
    "print(resultado)"
   ]
  },
  {
   "cell_type": "code",
   "execution_count": null,
   "id": "90537916",
   "metadata": {},
   "outputs": [],
   "source": [
    "from sympy import *\n",
    "init_printing(use_unicode=False, wrap_line=False)\n",
    "x = Symbol('x')\n",
    "integrate(x**5 + x + 5, x)"
   ]
  },
  {
   "cell_type": "code",
   "execution_count": null,
   "id": "5b64b89c",
   "metadata": {
    "scrolled": true
   },
   "outputs": [],
   "source": [
    "# Chat GPT\n",
    "\n",
    "from sympy import *\n",
    "import matplotlib.pyplot as plt\n",
    "import numpy as np\n",
    "\n",
    "init_printing(use_unicode=False, wrap_line=False)\n",
    "\n",
    "# Definir la variable simbólica\n",
    "x = Symbol('x')\n",
    "\n",
    "# Definir la función a integrar\n",
    "funcion = x**5 + x + 5\n",
    "\n",
    "# Calcular la integral definida de la función\n",
    "integral = integrate(funcion, x)\n",
    "\n",
    "# Imprimir la integral\n",
    "print(\"Integral:\", integral)\n",
    "\n",
    "# Definir la función integrada numéricamente\n",
    "f_integrada = lambdify(x, integral, 'numpy')\n",
    "\n",
    "# Crear un rango de valores para x\n",
    "x_vals = np.linspace(-10, 10, 1000)\n",
    "\n",
    "# Calcular los valores de y para la función integrada\n",
    "y_vals = f_integrada(x_vals)\n",
    "\n",
    "# Graficar la función integrada\n",
    "plt.plot(x_vals, y_vals, label='Integral de la función')\n",
    "plt.xlabel('x')\n",
    "plt.ylabel('y')\n",
    "plt.title('Gráfica de la integral de la función')\n",
    "plt.legend()\n",
    "plt.grid(True)\n",
    "plt.show()\n"
   ]
  },
  {
   "cell_type": "markdown",
   "id": "07675d44",
   "metadata": {},
   "source": [
    "### Ejemplo sale la grafica, pero me arroja un error"
   ]
  },
  {
   "cell_type": "code",
   "execution_count": null,
   "id": "66a43c24",
   "metadata": {},
   "outputs": [],
   "source": [
    "# Gemini\n",
    "\n",
    "from sympy import *\n",
    "init_printing(use_unicode=False, wrap_line=False)\n",
    "\n",
    "# Definimos la variable simbólica\n",
    "x = Symbol('x')\n",
    "\n",
    "# Función a integrar\n",
    "f = x**5 + x + 5\n",
    "\n",
    "# Integramos la función\n",
    "resultado_integral = integrate(f, x)\n",
    "\n",
    "# Mostramos el resultado de la integración\n",
    "print(\"La integral de f(x) = x^5 + x + 5 es:\")\n",
    "print(resultado_integral)\n",
    "\n",
    "# Graficamos la función f(x)\n",
    "plot(f, (x, -5, 5), title=\"Función f(x) = x^5 + x + 5\")\n",
    "\n",
    "# Mostramos la gráfica\n",
    "show()\n"
   ]
  },
  {
   "cell_type": "markdown",
   "id": "4e20390f",
   "metadata": {},
   "source": [
    "### Correccion"
   ]
  },
  {
   "cell_type": "code",
   "execution_count": null,
   "id": "4aebf0e9",
   "metadata": {},
   "outputs": [],
   "source": [
    "# Gemini\n",
    "\n",
    "from sympy import *\n",
    "import matplotlib.pyplot as plt\n",
    "\n",
    "x = Symbol('x')\n",
    "\n",
    "f = x**5 + x + 5\n",
    "\n",
    "resultado_integral = integrate(f, x)\n",
    "\n",
    "print(f\"La integral de f(x) = {f} es:\")\n",
    "print(resultado_integral)\n",
    "\n",
    "# Mostramos la gráfica\n",
    "plot(f, (x, -5, 5), title=\"Función f(x) = x^5 + x + 5\")\n",
    "plt.show()\n"
   ]
  },
  {
   "cell_type": "code",
   "execution_count": null,
   "id": "d2d13448",
   "metadata": {
    "scrolled": true
   },
   "outputs": [],
   "source": [
    "# Claude\n",
    "\n",
    "from sympy import Symbol, integrate, plot\n",
    "x = Symbol('x')\n",
    "\n",
    "integral = integrate(x**5 + x + 5, x)\n",
    "print(integral)\n",
    "\n",
    "plot(x**5 + x + 5, (x, -5, 5), title='Function', legend=True)"
   ]
  },
  {
   "cell_type": "code",
   "execution_count": null,
   "id": "2af8a30f",
   "metadata": {},
   "outputs": [],
   "source": [
    "# Copilot\n",
    "\n",
    "from sympy import *\n",
    "import matplotlib.pyplot as plt\n",
    "import numpy as np\n",
    "\n",
    "init_printing(use_unicode=False, wrap_line=False)\n",
    "x = Symbol('x')\n",
    "\n",
    "# Realizamos la integración\n",
    "integral = integrate(x**5 + x + 5, x)\n",
    "\n",
    "# Convertimos la integral a una función que se puede evaluar numéricamente\n",
    "f = lambdify(x, integral, \"numpy\")\n",
    "\n",
    "# Generamos valores de x\n",
    "x_vals = np.linspace(-10, 10, 400)\n",
    "\n",
    "# Evaluamos la función en los valores de x\n",
    "y_vals = f(x_vals)\n",
    "\n",
    "# Creamos la gráfica\n",
    "plt.figure(figsize=(8, 6))\n",
    "plt.plot(x_vals, y_vals, label=str(integral))\n",
    "plt.legend()\n",
    "plt.grid(True)\n",
    "plt.title('Gráfica de la integral')\n",
    "plt.xlabel('x')\n",
    "plt.ylabel('y')\n",
    "plt.show()\n"
   ]
  },
  {
   "cell_type": "markdown",
   "id": "d85a3f6e",
   "metadata": {},
   "source": [
    "### Solucionadores"
   ]
  },
  {
   "cell_type": "code",
   "execution_count": null,
   "id": "13facb20",
   "metadata": {},
   "outputs": [],
   "source": [
    "solve([x**2 - y**2/exp(x)], [x, y], dict=True)\n",
    "solve(x**2 - y**2/exp(x), x, dict=True)"
   ]
  },
  {
   "cell_type": "code",
   "execution_count": null,
   "id": "2501b81d",
   "metadata": {},
   "outputs": [],
   "source": [
    "solve([sin(x + y), cos(x - y)], [x, y])"
   ]
  },
  {
   "cell_type": "markdown",
   "id": "51988f5e",
   "metadata": {},
   "source": [
    "## Matrices"
   ]
  },
  {
   "cell_type": "code",
   "execution_count": null,
   "id": "32705769",
   "metadata": {},
   "outputs": [],
   "source": [
    "from sympy import shape\n",
    "M = Matrix([[1, 2, 3], [-2, 0, 4]])\n",
    "M\n",
    "shape(M)"
   ]
  },
  {
   "cell_type": "code",
   "execution_count": null,
   "id": "2a390d80",
   "metadata": {
    "scrolled": true
   },
   "outputs": [],
   "source": [
    "M = Matrix([[1, 3], [-2, 3]])\n",
    "N = Matrix([[0, 3], [0, 7]])\n",
    "M + N\n",
    "M*N\n",
    "3*M\n",
    "M**2\n",
    "M**-1\n",
    "N**-1"
   ]
  },
  {
   "cell_type": "code",
   "execution_count": null,
   "id": "2bf6f93b",
   "metadata": {},
   "outputs": [],
   "source": [
    "# CHat GPT\n",
    "\n",
    "from sympy import Matrix\n",
    "\n",
    "# Definir las matrices M y N\n",
    "M = Matrix([[1, 3], [-2, 3]])\n",
    "N = Matrix([[0, 3], [0, 7]])\n",
    "\n",
    "# Suma de matrices M + N\n",
    "suma_matrices = M + N\n",
    "print(\"Suma de matrices M + N:\")\n",
    "print(suma_matrices)\n",
    "\n",
    "# Producto de matrices M * N\n",
    "producto_matrices = M * N\n",
    "print(\"\\nProducto de matrices M * N:\")\n",
    "print(producto_matrices)\n",
    "\n",
    "# Multiplicación escalar 3 * M\n",
    "multiplicacion_escalar = 3 * M\n",
    "print(\"\\nMultiplicación escalar 3 * M:\")\n",
    "print(multiplicacion_escalar)\n",
    "\n",
    "# Potencia de matriz M^2\n",
    "potencia_matriz_2 = M**2\n",
    "print(\"\\nPotencia de matriz M^2:\")\n",
    "print(potencia_matriz_2)\n",
    "\n",
    "\n"
   ]
  },
  {
   "cell_type": "code",
   "execution_count": null,
   "id": "72fb7225",
   "metadata": {},
   "outputs": [],
   "source": [
    "# Gemini\n",
    "\n",
    "from sympy import Matrix\n",
    "\n",
    "# Define matrices\n",
    "M = Matrix([[1, 3], [-2, 3]])\n",
    "N = Matrix([[0, 3], [0, 7]])\n",
    "\n",
    "# Operations\n",
    "print(\"M + N:\")\n",
    "print(M + N)\n",
    "\n",
    "\n",
    "\n",
    "\n",
    "\n"
   ]
  },
  {
   "cell_type": "code",
   "execution_count": null,
   "id": "62cbe98d",
   "metadata": {},
   "outputs": [],
   "source": [
    "from sympy import Matrix\n",
    "\n",
    "# Definimos las matrices M y N\n",
    "M = Matrix([[1, 3], [-2, 3]])\n",
    "N = Matrix([[0, 3], [0, 7]])\n",
    "\n",
    "# Realizamos las operaciones solicitadas\n",
    "suma = M + N\n",
    "producto = M*N\n",
    "\n",
    "# Imprimimos los resultados\n",
    "print(\"M + N = \\n\", suma)\n",
    "print(\"M * N = \\n\", producto)\n",
    "\n"
   ]
  },
  {
   "cell_type": "code",
   "execution_count": null,
   "id": "535cdf0f",
   "metadata": {
    "scrolled": true
   },
   "outputs": [],
   "source": [
    "def my_iszero(x):\n",
    "    try:\n",
    "        result = x.rewrite(exp).simplify().is_zero\n",
    "    except AttributeError:\n",
    "        result = None\n",
    "    # Warnings if evaluated into None\n",
    "    if result is None:\n",
    "        warnings.warn(\"Zero testing of {} evaluated into None\".format(x))\n",
    "    return result\n",
    "m.nullspace(iszerofunc=my_iszero) "
   ]
  },
  {
   "cell_type": "code",
   "execution_count": null,
   "id": "9d1b2775",
   "metadata": {},
   "outputs": [],
   "source": [
    "# Chat GPT\n",
    "\n",
    "import sympy as sp\n",
    "import warnings\n",
    "\n",
    "def my_iszero(x):\n",
    "    try:\n",
    "        result = sp.simplify(x.rewrite(sp.exp)).is_zero\n",
    "    except AttributeError:\n",
    "        result = None\n",
    "    # Warnings if evaluated into None\n",
    "    if result is None:\n",
    "        warnings.warn(\"Zero testing of {} evaluated into None\".format(x))\n",
    "    return result\n",
    "\n",
    "# Supongamos que 'm' es una matriz SymPy, asegúrate de definirla antes de usar este código\n",
    "# m = ...\n",
    "\n",
    "# Ahora, puedes usar el método nullspace con tu función iszerofunc\n",
    "nullspace_result = m.nullspace(iszerofunc=my_iszero)\n",
    "\n",
    "# Haz lo que necesites con el resultado nullspace_result\n"
   ]
  },
  {
   "cell_type": "code",
   "execution_count": null,
   "id": "7b8a2585",
   "metadata": {
    "scrolled": true
   },
   "outputs": [],
   "source": [
    "# Chat GPT corregido\n",
    "\n",
    "import sympy as sp\n",
    "import warnings\n",
    "\n",
    "def my_iszero(x):\n",
    "    try:\n",
    "        result = sp.simplify(x.rewrite(sp.exp)).is_zero\n",
    "    except AttributeError:\n",
    "        result = None\n",
    "    # Warnings if evaluated into None\n",
    "    if result is None:\n",
    "        warnings.warn(\"Zero testing of {} evaluated into None\".format(x))\n",
    "    return result\n",
    "\n",
    "# Define una matriz 'm' de ejemplo\n",
    "m = sp.Matrix([[1, 2, 3], [4, 5, 6], [7, 8, 9]])\n",
    "\n",
    "# Ahora, puedes usar el método nullspace con tu función iszerofunc\n",
    "nullspace_result = m.nullspace(iszerofunc=my_iszero)\n",
    "\n",
    "# Haz lo que necesites con el resultado nullspace_result\n",
    "print(nullspace_result)\n"
   ]
  },
  {
   "cell_type": "code",
   "execution_count": null,
   "id": "820a2f25",
   "metadata": {},
   "outputs": [],
   "source": [
    "from sympy import *\n",
    "\n",
    "def my_iszero(x):\n",
    "    \"\"\"\n",
    "    Función para verificar si un objeto simbólico es igual a cero.\n",
    "    Maneja diferentes tipos de objetos y proporciona mensajes de advertencia.\n",
    "\n",
    "    Argumentos:\n",
    "        x: Objeto simbólico a evaluar.\n",
    "\n",
    "    Retorno:\n",
    "        True si x es igual a cero, False si no lo es, None si no se puede determinar.\n",
    "    \"\"\"\n",
    "    try:\n",
    "        # Simplificación personalizada para ratios\n",
    "        x = simplify(x, ratio=True)\n",
    "        # Reescritura a exponencial\n",
    "        x = x.rewrite(exp)\n",
    "        # Simplificación final\n",
    "        x = simplify(x)\n",
    "        # Evaluación booleana\n",
    "        return x.is_zero\n",
    "    except (AttributeError, TypeError):\n",
    "        warnings.warn(\"Evaluación de 'iszero' para {} falló\".format(x))\n",
    "        return None\n",
    "\n",
    "# Matriz de ejemplo\n",
    "m = Matrix([[1, 2, 3], [4, 5, 6]])\n",
    "\n",
    "# Cálculo del espacio nulo con función personalizada\n",
    "null_space = m.nullspace(iszerofunc=my_iszero)\n",
    "\n",
    "# Impresión del espacio nulo\n",
    "for vector in null_space:\n",
    "    print(vector)\n"
   ]
  },
  {
   "cell_type": "code",
   "execution_count": null,
   "id": "834bcbef",
   "metadata": {},
   "outputs": [],
   "source": [
    "import warnings\n",
    "from sympy import Matrix, exp\n",
    "\n",
    "def my_iszero(x):\n",
    "    try:\n",
    "        result = x.rewrite(exp).simplify().is_zero\n",
    "    except AttributeError:\n",
    "        result = None\n",
    "    # Warnings if evaluated into None\n",
    "    if result is None:\n",
    "        warnings.warn(\"Zero testing of {} evaluated into None\".format(x))\n",
    "    return result\n",
    "\n",
    "# Definimos m como una matriz de ejemplo\n",
    "m = Matrix([[1, 2], [3, 4]])\n",
    "\n",
    "# Calculamos el espacio nulo\n",
    "null_space = m.nullspace(iszerofunc=my_iszero)\n"
   ]
  },
  {
   "cell_type": "code",
   "execution_count": null,
   "id": "03c4bff3",
   "metadata": {},
   "outputs": [],
   "source": [
    "from sympy import Matrix, exp\n",
    "\n",
    "# Definimos m como una matriz de ejemplo\n",
    "m = Matrix([[1, 2], [3, 4]])\n",
    "\n",
    "# Definimos exp como la función exponencial de SymPy\n",
    "exp = exp(1)\n",
    "\n",
    "# Ahora puedes llamar a m.nullspace(iszerofunc=my_iszero)\n",
    "null_space = m.nullspace(iszerofunc=my_iszero)\n"
   ]
  },
  {
   "cell_type": "code",
   "execution_count": null,
   "id": "a9f86063",
   "metadata": {},
   "outputs": [],
   "source": [
    "from sympy import *\n",
    "q = Symbol(\"q\", positive = True)\n",
    "m = Matrix([\n",
    "[-2*cosh(q/3),      exp(-q),            1],\n",
    "[      exp(q), -2*cosh(q/3),            1],\n",
    "[           1,            1, -2*cosh(q/3)]])\n",
    "m.nullspace() "
   ]
  },
  {
   "cell_type": "markdown",
   "id": "9f2ac57f",
   "metadata": {},
   "source": [
    "## Expresiones Avanzadas"
   ]
  },
  {
   "cell_type": "code",
   "execution_count": null,
   "id": "96be85fd",
   "metadata": {},
   "outputs": [],
   "source": [
    "from sympy import *\n",
    "x, y, z = symbols('x y z')"
   ]
  },
  {
   "cell_type": "code",
   "execution_count": null,
   "id": "56673160",
   "metadata": {},
   "outputs": [],
   "source": [
    "# Chat GPT\n",
    "\n",
    "from sympy import *\n",
    "\n",
    "x, y, z = symbols('x y z')\n",
    "expr = x**2 + x*y\n",
    "srepr(expr)\n"
   ]
  },
  {
   "cell_type": "code",
   "execution_count": null,
   "id": "9fc5119c",
   "metadata": {},
   "outputs": [],
   "source": [
    "# Gemini\n",
    "\n",
    "from sympy import *\n",
    "x, y, z = symbols('x y z')\n",
    "\n",
    "# Ecuación a resolver\n",
    "ecuacion = Eq(x**2 + y**2 - z**2, 0)\n",
    "\n",
    "# Solución para x\n",
    "solucion_x = solve(ecuacion, x)\n",
    "\n",
    "# Solución para y\n",
    "solucion_y = solve(ecuacion, y)\n",
    "\n",
    "# Solución para z\n",
    "solucion_z = solve(ecuacion, z)\n",
    "\n",
    "# Imprimir soluciones\n",
    "print(\"Solución para x:\", solucion_x)\n",
    "print(\"Solución para y:\", solucion_y)\n",
    "print(\"Solución para z:\", solucion_z)\n"
   ]
  },
  {
   "cell_type": "code",
   "execution_count": null,
   "id": "45b7aa35",
   "metadata": {},
   "outputs": [],
   "source": [
    "# Gemini\n",
    "\n",
    "from sympy import *\n",
    "\n",
    "x, y = symbols('x y')\n",
    "expr = x**2 + x*y\n",
    "\n",
    "print(srepr(expr))\n"
   ]
  },
  {
   "cell_type": "code",
   "execution_count": null,
   "id": "4600d7e2",
   "metadata": {},
   "outputs": [],
   "source": [
    "# Copilot\n",
    "\n",
    "from sympy import *\n",
    "x, y, z = symbols('x y z')\n",
    "\n",
    "# Definir la ecuación\n",
    "ecuacion = Eq(2*x + 3*y + z, 1)\n",
    "\n",
    "# Resolver la ecuación para 'x'\n",
    "solucion = solve(ecuacion, x)\n",
    "\n",
    "print(solucion)\n"
   ]
  },
  {
   "cell_type": "code",
   "execution_count": null,
   "id": "8b072168",
   "metadata": {},
   "outputs": [],
   "source": [
    "expr = sin(x*y)/2 - x**2 + 1/y\n",
    "srepr(expr)"
   ]
  },
  {
   "cell_type": "code",
   "execution_count": 3,
   "id": "75f548c3",
   "metadata": {},
   "outputs": [
    {
     "name": "stdout",
     "output_type": "stream",
     "text": [
      "Requirement already satisfied: graphviz in c:\\users\\roberto\\anaconda3\\envs\\pycode\\lib\\site-packages (0.20.1)\n",
      "Note: you may need to restart the kernel to use updated packages.\n"
     ]
    }
   ],
   "source": [
    "pip install graphviz\n"
   ]
  },
  {
   "cell_type": "code",
   "execution_count": 6,
   "id": "c5eac750",
   "metadata": {},
   "outputs": [
    {
     "ename": "ExecutableNotFound",
     "evalue": "failed to execute WindowsPath('dot'), make sure the Graphviz executables are on your systems' PATH",
     "output_type": "error",
     "traceback": [
      "\u001b[1;31m---------------------------------------------------------------------------\u001b[0m",
      "\u001b[1;31mFileNotFoundError\u001b[0m                         Traceback (most recent call last)",
      "File \u001b[1;32m~\\anaconda3\\envs\\pycode\\Lib\\site-packages\\graphviz\\backend\\execute.py:81\u001b[0m, in \u001b[0;36mrun_check\u001b[1;34m(cmd, input_lines, encoding, quiet, **kwargs)\u001b[0m\n\u001b[0;32m     80\u001b[0m     \u001b[38;5;28;01melse\u001b[39;00m:\n\u001b[1;32m---> 81\u001b[0m         proc \u001b[38;5;241m=\u001b[39m subprocess\u001b[38;5;241m.\u001b[39mrun(cmd, \u001b[38;5;241m*\u001b[39m\u001b[38;5;241m*\u001b[39mkwargs)\n\u001b[0;32m     82\u001b[0m \u001b[38;5;28;01mexcept\u001b[39;00m \u001b[38;5;167;01mOSError\u001b[39;00m \u001b[38;5;28;01mas\u001b[39;00m e:\n",
      "File \u001b[1;32m~\\anaconda3\\envs\\pycode\\Lib\\subprocess.py:548\u001b[0m, in \u001b[0;36mrun\u001b[1;34m(input, capture_output, timeout, check, *popenargs, **kwargs)\u001b[0m\n\u001b[0;32m    546\u001b[0m     kwargs[\u001b[38;5;124m'\u001b[39m\u001b[38;5;124mstderr\u001b[39m\u001b[38;5;124m'\u001b[39m] \u001b[38;5;241m=\u001b[39m PIPE\n\u001b[1;32m--> 548\u001b[0m \u001b[38;5;28;01mwith\u001b[39;00m Popen(\u001b[38;5;241m*\u001b[39mpopenargs, \u001b[38;5;241m*\u001b[39m\u001b[38;5;241m*\u001b[39mkwargs) \u001b[38;5;28;01mas\u001b[39;00m process:\n\u001b[0;32m    549\u001b[0m     \u001b[38;5;28;01mtry\u001b[39;00m:\n",
      "File \u001b[1;32m~\\anaconda3\\envs\\pycode\\Lib\\subprocess.py:1026\u001b[0m, in \u001b[0;36mPopen.__init__\u001b[1;34m(self, args, bufsize, executable, stdin, stdout, stderr, preexec_fn, close_fds, shell, cwd, env, universal_newlines, startupinfo, creationflags, restore_signals, start_new_session, pass_fds, user, group, extra_groups, encoding, errors, text, umask, pipesize, process_group)\u001b[0m\n\u001b[0;32m   1023\u001b[0m             \u001b[38;5;28mself\u001b[39m\u001b[38;5;241m.\u001b[39mstderr \u001b[38;5;241m=\u001b[39m io\u001b[38;5;241m.\u001b[39mTextIOWrapper(\u001b[38;5;28mself\u001b[39m\u001b[38;5;241m.\u001b[39mstderr,\n\u001b[0;32m   1024\u001b[0m                     encoding\u001b[38;5;241m=\u001b[39mencoding, errors\u001b[38;5;241m=\u001b[39merrors)\n\u001b[1;32m-> 1026\u001b[0m     \u001b[38;5;28mself\u001b[39m\u001b[38;5;241m.\u001b[39m_execute_child(args, executable, preexec_fn, close_fds,\n\u001b[0;32m   1027\u001b[0m                         pass_fds, cwd, env,\n\u001b[0;32m   1028\u001b[0m                         startupinfo, creationflags, shell,\n\u001b[0;32m   1029\u001b[0m                         p2cread, p2cwrite,\n\u001b[0;32m   1030\u001b[0m                         c2pread, c2pwrite,\n\u001b[0;32m   1031\u001b[0m                         errread, errwrite,\n\u001b[0;32m   1032\u001b[0m                         restore_signals,\n\u001b[0;32m   1033\u001b[0m                         gid, gids, uid, umask,\n\u001b[0;32m   1034\u001b[0m                         start_new_session, process_group)\n\u001b[0;32m   1035\u001b[0m \u001b[38;5;28;01mexcept\u001b[39;00m:\n\u001b[0;32m   1036\u001b[0m     \u001b[38;5;66;03m# Cleanup if the child failed starting.\u001b[39;00m\n",
      "File \u001b[1;32m~\\anaconda3\\envs\\pycode\\Lib\\subprocess.py:1538\u001b[0m, in \u001b[0;36mPopen._execute_child\u001b[1;34m(self, args, executable, preexec_fn, close_fds, pass_fds, cwd, env, startupinfo, creationflags, shell, p2cread, p2cwrite, c2pread, c2pwrite, errread, errwrite, unused_restore_signals, unused_gid, unused_gids, unused_uid, unused_umask, unused_start_new_session, unused_process_group)\u001b[0m\n\u001b[0;32m   1537\u001b[0m \u001b[38;5;28;01mtry\u001b[39;00m:\n\u001b[1;32m-> 1538\u001b[0m     hp, ht, pid, tid \u001b[38;5;241m=\u001b[39m _winapi\u001b[38;5;241m.\u001b[39mCreateProcess(executable, args,\n\u001b[0;32m   1539\u001b[0m                              \u001b[38;5;66;03m# no special security\u001b[39;00m\n\u001b[0;32m   1540\u001b[0m                              \u001b[38;5;28;01mNone\u001b[39;00m, \u001b[38;5;28;01mNone\u001b[39;00m,\n\u001b[0;32m   1541\u001b[0m                              \u001b[38;5;28mint\u001b[39m(\u001b[38;5;129;01mnot\u001b[39;00m close_fds),\n\u001b[0;32m   1542\u001b[0m                              creationflags,\n\u001b[0;32m   1543\u001b[0m                              env,\n\u001b[0;32m   1544\u001b[0m                              cwd,\n\u001b[0;32m   1545\u001b[0m                              startupinfo)\n\u001b[0;32m   1546\u001b[0m \u001b[38;5;28;01mfinally\u001b[39;00m:\n\u001b[0;32m   1547\u001b[0m     \u001b[38;5;66;03m# Child is launched. Close the parent's copy of those pipe\u001b[39;00m\n\u001b[0;32m   1548\u001b[0m     \u001b[38;5;66;03m# handles that only the child should have open.  You need\u001b[39;00m\n\u001b[1;32m   (...)\u001b[0m\n\u001b[0;32m   1551\u001b[0m     \u001b[38;5;66;03m# pipe will not close when the child process exits and the\u001b[39;00m\n\u001b[0;32m   1552\u001b[0m     \u001b[38;5;66;03m# ReadFile will hang.\u001b[39;00m\n",
      "\u001b[1;31mFileNotFoundError\u001b[0m: [WinError 2] El sistema no puede encontrar el archivo especificado",
      "\nThe above exception was the direct cause of the following exception:\n",
      "\u001b[1;31mExecutableNotFound\u001b[0m                        Traceback (most recent call last)",
      "Cell \u001b[1;32mIn[6], line 21\u001b[0m\n\u001b[0;32m     19\u001b[0m \u001b[38;5;66;03m# Visualizar el grafo\u001b[39;00m\n\u001b[0;32m     20\u001b[0m output_file_path \u001b[38;5;241m=\u001b[39m \u001b[38;5;124m'\u001b[39m\u001b[38;5;124mejemplo_grafo\u001b[39m\u001b[38;5;124m'\u001b[39m\n\u001b[1;32m---> 21\u001b[0m dot\u001b[38;5;241m.\u001b[39mrender(output_file_path, \u001b[38;5;28mformat\u001b[39m\u001b[38;5;241m=\u001b[39m\u001b[38;5;124m'\u001b[39m\u001b[38;5;124mpng\u001b[39m\u001b[38;5;124m'\u001b[39m, engine\u001b[38;5;241m=\u001b[39m\u001b[38;5;124m'\u001b[39m\u001b[38;5;124mdot\u001b[39m\u001b[38;5;124m'\u001b[39m, cleanup\u001b[38;5;241m=\u001b[39m\u001b[38;5;28;01mTrue\u001b[39;00m, view\u001b[38;5;241m=\u001b[39m\u001b[38;5;28;01mFalse\u001b[39;00m, renderer\u001b[38;5;241m=\u001b[39mdot_executable_path)\n\u001b[0;32m     23\u001b[0m \u001b[38;5;66;03m# Mostrar el gráfico en el Jupyter Notebook\u001b[39;00m\n\u001b[0;32m     24\u001b[0m Image(filename\u001b[38;5;241m=\u001b[39m\u001b[38;5;124mf\u001b[39m\u001b[38;5;124m'\u001b[39m\u001b[38;5;132;01m{\u001b[39;00moutput_file_path\u001b[38;5;132;01m}\u001b[39;00m\u001b[38;5;124m.png\u001b[39m\u001b[38;5;124m'\u001b[39m)\n",
      "File \u001b[1;32m~\\anaconda3\\envs\\pycode\\Lib\\site-packages\\graphviz\\_tools.py:171\u001b[0m, in \u001b[0;36mdeprecate_positional_args.<locals>.decorator.<locals>.wrapper\u001b[1;34m(*args, **kwargs)\u001b[0m\n\u001b[0;32m    162\u001b[0m     wanted \u001b[38;5;241m=\u001b[39m \u001b[38;5;124m'\u001b[39m\u001b[38;5;124m, \u001b[39m\u001b[38;5;124m'\u001b[39m\u001b[38;5;241m.\u001b[39mjoin(\u001b[38;5;124mf\u001b[39m\u001b[38;5;124m'\u001b[39m\u001b[38;5;132;01m{\u001b[39;00mname\u001b[38;5;132;01m}\u001b[39;00m\u001b[38;5;124m=\u001b[39m\u001b[38;5;132;01m{\u001b[39;00mvalue\u001b[38;5;132;01m!r}\u001b[39;00m\u001b[38;5;124m'\u001b[39m\n\u001b[0;32m    163\u001b[0m                        \u001b[38;5;28;01mfor\u001b[39;00m name, value \u001b[38;5;129;01min\u001b[39;00m deprecated\u001b[38;5;241m.\u001b[39mitems())\n\u001b[0;32m    164\u001b[0m     warnings\u001b[38;5;241m.\u001b[39mwarn(\u001b[38;5;124mf\u001b[39m\u001b[38;5;124m'\u001b[39m\u001b[38;5;124mThe signature of \u001b[39m\u001b[38;5;132;01m{\u001b[39;00mfunc\u001b[38;5;241m.\u001b[39m\u001b[38;5;18m__name__\u001b[39m\u001b[38;5;132;01m}\u001b[39;00m\u001b[38;5;124m will be reduced\u001b[39m\u001b[38;5;124m'\u001b[39m\n\u001b[0;32m    165\u001b[0m                   \u001b[38;5;124mf\u001b[39m\u001b[38;5;124m'\u001b[39m\u001b[38;5;124m to \u001b[39m\u001b[38;5;132;01m{\u001b[39;00msupported_number\u001b[38;5;132;01m}\u001b[39;00m\u001b[38;5;124m positional args\u001b[39m\u001b[38;5;124m'\u001b[39m\n\u001b[0;32m    166\u001b[0m                   \u001b[38;5;124mf\u001b[39m\u001b[38;5;124m'\u001b[39m\u001b[38;5;124m \u001b[39m\u001b[38;5;132;01m{\u001b[39;00m\u001b[38;5;28mlist\u001b[39m(supported)\u001b[38;5;132;01m}\u001b[39;00m\u001b[38;5;124m: pass \u001b[39m\u001b[38;5;132;01m{\u001b[39;00mwanted\u001b[38;5;132;01m}\u001b[39;00m\u001b[38;5;124m'\u001b[39m\n\u001b[0;32m    167\u001b[0m                   \u001b[38;5;124m'\u001b[39m\u001b[38;5;124m as keyword arg(s)\u001b[39m\u001b[38;5;124m'\u001b[39m,\n\u001b[0;32m    168\u001b[0m                   stacklevel\u001b[38;5;241m=\u001b[39mstacklevel,\n\u001b[0;32m    169\u001b[0m                   category\u001b[38;5;241m=\u001b[39mcategory)\n\u001b[1;32m--> 171\u001b[0m \u001b[38;5;28;01mreturn\u001b[39;00m func(\u001b[38;5;241m*\u001b[39margs, \u001b[38;5;241m*\u001b[39m\u001b[38;5;241m*\u001b[39mkwargs)\n",
      "File \u001b[1;32m~\\anaconda3\\envs\\pycode\\Lib\\site-packages\\graphviz\\rendering.py:122\u001b[0m, in \u001b[0;36mRender.render\u001b[1;34m(self, filename, directory, view, cleanup, format, renderer, formatter, neato_no_op, quiet, quiet_view, outfile, engine, raise_if_result_exists, overwrite_source)\u001b[0m\n\u001b[0;32m    118\u001b[0m filepath \u001b[38;5;241m=\u001b[39m \u001b[38;5;28mself\u001b[39m\u001b[38;5;241m.\u001b[39msave(filename, directory\u001b[38;5;241m=\u001b[39mdirectory, skip_existing\u001b[38;5;241m=\u001b[39m\u001b[38;5;28;01mNone\u001b[39;00m)\n\u001b[0;32m    120\u001b[0m args\u001b[38;5;241m.\u001b[39mappend(filepath)\n\u001b[1;32m--> 122\u001b[0m rendered \u001b[38;5;241m=\u001b[39m \u001b[38;5;28mself\u001b[39m\u001b[38;5;241m.\u001b[39m_render(\u001b[38;5;241m*\u001b[39margs, \u001b[38;5;241m*\u001b[39m\u001b[38;5;241m*\u001b[39mkwargs)\n\u001b[0;32m    124\u001b[0m \u001b[38;5;28;01mif\u001b[39;00m cleanup:\n\u001b[0;32m    125\u001b[0m     log\u001b[38;5;241m.\u001b[39mdebug(\u001b[38;5;124m'\u001b[39m\u001b[38;5;124mdelete \u001b[39m\u001b[38;5;132;01m%r\u001b[39;00m\u001b[38;5;124m'\u001b[39m, filepath)\n",
      "File \u001b[1;32m~\\anaconda3\\envs\\pycode\\Lib\\site-packages\\graphviz\\_tools.py:171\u001b[0m, in \u001b[0;36mdeprecate_positional_args.<locals>.decorator.<locals>.wrapper\u001b[1;34m(*args, **kwargs)\u001b[0m\n\u001b[0;32m    162\u001b[0m     wanted \u001b[38;5;241m=\u001b[39m \u001b[38;5;124m'\u001b[39m\u001b[38;5;124m, \u001b[39m\u001b[38;5;124m'\u001b[39m\u001b[38;5;241m.\u001b[39mjoin(\u001b[38;5;124mf\u001b[39m\u001b[38;5;124m'\u001b[39m\u001b[38;5;132;01m{\u001b[39;00mname\u001b[38;5;132;01m}\u001b[39;00m\u001b[38;5;124m=\u001b[39m\u001b[38;5;132;01m{\u001b[39;00mvalue\u001b[38;5;132;01m!r}\u001b[39;00m\u001b[38;5;124m'\u001b[39m\n\u001b[0;32m    163\u001b[0m                        \u001b[38;5;28;01mfor\u001b[39;00m name, value \u001b[38;5;129;01min\u001b[39;00m deprecated\u001b[38;5;241m.\u001b[39mitems())\n\u001b[0;32m    164\u001b[0m     warnings\u001b[38;5;241m.\u001b[39mwarn(\u001b[38;5;124mf\u001b[39m\u001b[38;5;124m'\u001b[39m\u001b[38;5;124mThe signature of \u001b[39m\u001b[38;5;132;01m{\u001b[39;00mfunc\u001b[38;5;241m.\u001b[39m\u001b[38;5;18m__name__\u001b[39m\u001b[38;5;132;01m}\u001b[39;00m\u001b[38;5;124m will be reduced\u001b[39m\u001b[38;5;124m'\u001b[39m\n\u001b[0;32m    165\u001b[0m                   \u001b[38;5;124mf\u001b[39m\u001b[38;5;124m'\u001b[39m\u001b[38;5;124m to \u001b[39m\u001b[38;5;132;01m{\u001b[39;00msupported_number\u001b[38;5;132;01m}\u001b[39;00m\u001b[38;5;124m positional args\u001b[39m\u001b[38;5;124m'\u001b[39m\n\u001b[0;32m    166\u001b[0m                   \u001b[38;5;124mf\u001b[39m\u001b[38;5;124m'\u001b[39m\u001b[38;5;124m \u001b[39m\u001b[38;5;132;01m{\u001b[39;00m\u001b[38;5;28mlist\u001b[39m(supported)\u001b[38;5;132;01m}\u001b[39;00m\u001b[38;5;124m: pass \u001b[39m\u001b[38;5;132;01m{\u001b[39;00mwanted\u001b[38;5;132;01m}\u001b[39;00m\u001b[38;5;124m'\u001b[39m\n\u001b[0;32m    167\u001b[0m                   \u001b[38;5;124m'\u001b[39m\u001b[38;5;124m as keyword arg(s)\u001b[39m\u001b[38;5;124m'\u001b[39m,\n\u001b[0;32m    168\u001b[0m                   stacklevel\u001b[38;5;241m=\u001b[39mstacklevel,\n\u001b[0;32m    169\u001b[0m                   category\u001b[38;5;241m=\u001b[39mcategory)\n\u001b[1;32m--> 171\u001b[0m \u001b[38;5;28;01mreturn\u001b[39;00m func(\u001b[38;5;241m*\u001b[39margs, \u001b[38;5;241m*\u001b[39m\u001b[38;5;241m*\u001b[39mkwargs)\n",
      "File \u001b[1;32m~\\anaconda3\\envs\\pycode\\Lib\\site-packages\\graphviz\\backend\\rendering.py:324\u001b[0m, in \u001b[0;36mrender\u001b[1;34m(engine, format, filepath, renderer, formatter, neato_no_op, quiet, outfile, raise_if_result_exists, overwrite_filepath)\u001b[0m\n\u001b[0;32m    320\u001b[0m     \u001b[38;5;28;01mraise\u001b[39;00m exceptions\u001b[38;5;241m.\u001b[39mFileExistsError(\u001b[38;5;124mf\u001b[39m\u001b[38;5;124m'\u001b[39m\u001b[38;5;124moutput file exists: \u001b[39m\u001b[38;5;132;01m{\u001b[39;00mos\u001b[38;5;241m.\u001b[39mfspath(outfile)\u001b[38;5;132;01m!r}\u001b[39;00m\u001b[38;5;124m'\u001b[39m)\n\u001b[0;32m    322\u001b[0m cmd \u001b[38;5;241m+\u001b[39m\u001b[38;5;241m=\u001b[39m args\n\u001b[1;32m--> 324\u001b[0m execute\u001b[38;5;241m.\u001b[39mrun_check(cmd,\n\u001b[0;32m    325\u001b[0m                   cwd\u001b[38;5;241m=\u001b[39mfilepath\u001b[38;5;241m.\u001b[39mparent \u001b[38;5;28;01mif\u001b[39;00m filepath\u001b[38;5;241m.\u001b[39mparent\u001b[38;5;241m.\u001b[39mparts \u001b[38;5;28;01melse\u001b[39;00m \u001b[38;5;28;01mNone\u001b[39;00m,\n\u001b[0;32m    326\u001b[0m                   quiet\u001b[38;5;241m=\u001b[39mquiet,\n\u001b[0;32m    327\u001b[0m                   capture_output\u001b[38;5;241m=\u001b[39m\u001b[38;5;28;01mTrue\u001b[39;00m)\n\u001b[0;32m    329\u001b[0m \u001b[38;5;28;01mreturn\u001b[39;00m os\u001b[38;5;241m.\u001b[39mfspath(outfile)\n",
      "File \u001b[1;32m~\\anaconda3\\envs\\pycode\\Lib\\site-packages\\graphviz\\backend\\execute.py:84\u001b[0m, in \u001b[0;36mrun_check\u001b[1;34m(cmd, input_lines, encoding, quiet, **kwargs)\u001b[0m\n\u001b[0;32m     82\u001b[0m \u001b[38;5;28;01mexcept\u001b[39;00m \u001b[38;5;167;01mOSError\u001b[39;00m \u001b[38;5;28;01mas\u001b[39;00m e:\n\u001b[0;32m     83\u001b[0m     \u001b[38;5;28;01mif\u001b[39;00m e\u001b[38;5;241m.\u001b[39merrno \u001b[38;5;241m==\u001b[39m errno\u001b[38;5;241m.\u001b[39mENOENT:\n\u001b[1;32m---> 84\u001b[0m         \u001b[38;5;28;01mraise\u001b[39;00m ExecutableNotFound(cmd) \u001b[38;5;28;01mfrom\u001b[39;00m \u001b[38;5;21;01me\u001b[39;00m\n\u001b[0;32m     85\u001b[0m     \u001b[38;5;28;01mraise\u001b[39;00m\n\u001b[0;32m     87\u001b[0m \u001b[38;5;28;01mif\u001b[39;00m \u001b[38;5;129;01mnot\u001b[39;00m quiet \u001b[38;5;129;01mand\u001b[39;00m proc\u001b[38;5;241m.\u001b[39mstderr:\n",
      "\u001b[1;31mExecutableNotFound\u001b[0m: failed to execute WindowsPath('dot'), make sure the Graphviz executables are on your systems' PATH"
     ]
    }
   ],
   "source": [
    "import graphviz\n",
    "import shutil\n",
    "from IPython.display import Image\n",
    "\n",
    "# Verificar la ruta del ejecutable \"dot\"\n",
    "dot_executable_path = shutil.which('dot')\n",
    "\n",
    "# Crear un objeto Digraph\n",
    "dot = graphviz.Digraph(comment='Ejemplo de Grafo')\n",
    "\n",
    "# Agregar nodos al grafo\n",
    "dot.node('A', 'Nodo A')\n",
    "dot.node('B', 'Nodo B')\n",
    "dot.node('C', 'Nodo C')\n",
    "\n",
    "# Agregar aristas (conexiones entre nodos)\n",
    "dot.edges(['AB', 'BC'])\n",
    "\n",
    "# Visualizar el grafo\n",
    "output_file_path = 'ejemplo_grafo'\n",
    "dot.render(output_file_path, format='png', engine='dot', cleanup=True, view=False, renderer=dot_executable_path)\n",
    "\n",
    "# Mostrar el gráfico en el Jupyter Notebook\n",
    "Image(filename=f'{output_file_path}.png')\n"
   ]
  }
 ],
 "metadata": {
  "kernelspec": {
   "display_name": "Python 3 (ipykernel)",
   "language": "python",
   "name": "python3"
  },
  "language_info": {
   "codemirror_mode": {
    "name": "ipython",
    "version": 3
   },
   "file_extension": ".py",
   "mimetype": "text/x-python",
   "name": "python",
   "nbconvert_exporter": "python",
   "pygments_lexer": "ipython3",
   "version": "3.11.4"
  }
 },
 "nbformat": 4,
 "nbformat_minor": 5
}
